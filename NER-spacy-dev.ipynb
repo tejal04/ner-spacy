{
 "cells": [
  {
   "attachments": {},
   "cell_type": "markdown",
   "id": "44391dfb",
   "metadata": {},
   "source": [
    "### Setup Environment"
   ]
  },
  {
   "cell_type": "code",
   "execution_count": 1,
   "id": "c0a45b31",
   "metadata": {},
   "outputs": [],
   "source": [
    "#!pip install torch torchvision\n",
    "#!pip install spacy\n",
    "#!python -m spacy download en_core_web_trf"
   ]
  },
  {
   "cell_type": "code",
   "execution_count": 2,
   "id": "b6e39c25",
   "metadata": {},
   "outputs": [],
   "source": [
    "import pandas as pd\n",
    "\n",
    "import spacy\n",
    "import spacy_transformers\n",
    "from spacy import displacy\n",
    "from spacy.tokens import Span\n",
    "\n",
    "transformer = spacy.load('en_core_web_trf') #other options - en_core_web_sm, en_core_web_lg"
   ]
  },
  {
   "attachments": {},
   "cell_type": "markdown",
   "id": "ecdbd11d",
   "metadata": {},
   "source": [
    "### NER on text"
   ]
  },
  {
   "cell_type": "code",
   "execution_count": 93,
   "id": "63f5b468",
   "metadata": {},
   "outputs": [],
   "source": [
    "#source : https://www.nytimes.com/2023/06/09/opinion/ai-big-tech-microsoft-google-duopoly.html\n",
    "\n",
    "text = \"In just a few months, Microsoft broke speed records in establishing ChatGPT, a form of generative artificial intelligence that it plans to invest $10 billion into, as a household name. And last month, Sundar Pichai, C.E.O. of Alphabet/Google, unveiled a suite of A.I. tools — including for email, spreadsheets and drafting all manner of text. While there is some discussion as to whether Meta’s recent decision to give away its A.I. computer code will accelerate its progress, the reality is that all competitors to Alphabet and Microsoft remain far behind.\"\n",
    "\n",
    "text2 = \"Smoke from wildfires in Canada has drifted down into the U.S. on Wednesday, leading to extremely poor air quality across much of the eastern U.S., with alerts in effect all the way from New England to the Southeast. In all, more than 100 million Americans were affected by air quality alerts, the Environmental Protection Agency said.\"\n",
    "\n",
    "text3 = \"Global esports qualfied.\""
   ]
  },
  {
   "cell_type": "code",
   "execution_count": 48,
   "id": "960e370e",
   "metadata": {},
   "outputs": [],
   "source": [
    "def show_entities(doc) : \n",
    "    list_out = []\n",
    "    if doc.ents :\n",
    "        for ent in doc.ents : \n",
    "            out = (ent.text) + \" | \" + str(ent.start_char) + \" | \" + str(ent.end_char)\\\n",
    "                  + \" | \" + str(ent.label_) + \" | \" + str(spacy.explain(ent.label_)) \n",
    "            #print(out)\n",
    "            list_out.append(out)\n",
    "    else :\n",
    "        print(\"Entities not found\")\n",
    "        \n",
    "    return pd.DataFrame([x.split('|') for x in list_out], columns=['Word', 'Start', 'End', 'Entity', 'Description'])"
   ]
  },
  {
   "attachments": {},
   "cell_type": "markdown",
   "id": "f4bf753e",
   "metadata": {},
   "source": [
    "#### Example 1"
   ]
  },
  {
   "cell_type": "code",
   "execution_count": 75,
   "id": "aa58912f",
   "metadata": {},
   "outputs": [
    {
     "data": {
      "text/plain": [
       "In just a few months, Microsoft broke speed records in establishing ChatGPT, a form of generative artificial intelligence that it plans to invest $10 billion into, as a household name. And last month, Sundar Pichai, C.E.O. of Alphabet/Google, unveiled a suite of A.I. tools — including for email, spreadsheets and drafting all manner of text. While there is some discussion as to whether Meta’s recent decision to give away its A.I. computer code will accelerate its progress, the reality is that all competitors to Alphabet and Microsoft remain far behind."
      ]
     },
     "execution_count": 75,
     "metadata": {},
     "output_type": "execute_result"
    }
   ],
   "source": [
    "doc = transformer(text)\n",
    "doc"
   ]
  },
  {
   "cell_type": "code",
   "execution_count": 76,
   "id": "5dd26ccb",
   "metadata": {},
   "outputs": [
    {
     "data": {
      "text/html": [
       "<span class=\"tex2jax_ignore\"><div class=\"entities\" style=\"line-height: 2.5; direction: ltr\">In \n",
       "<mark class=\"entity\" style=\"background: #bfe1d9; padding: 0.45em 0.6em; margin: 0 0.25em; line-height: 1; border-radius: 0.35em;\">\n",
       "    just a few months\n",
       "    <span style=\"font-size: 0.8em; font-weight: bold; line-height: 1; border-radius: 0.35em; vertical-align: middle; margin-left: 0.5rem\">DATE</span>\n",
       "</mark>\n",
       ", \n",
       "<mark class=\"entity\" style=\"background: #7aecec; padding: 0.45em 0.6em; margin: 0 0.25em; line-height: 1; border-radius: 0.35em;\">\n",
       "    Microsoft\n",
       "    <span style=\"font-size: 0.8em; font-weight: bold; line-height: 1; border-radius: 0.35em; vertical-align: middle; margin-left: 0.5rem\">ORG</span>\n",
       "</mark>\n",
       " broke speed records in establishing \n",
       "<mark class=\"entity\" style=\"background: #bfeeb7; padding: 0.45em 0.6em; margin: 0 0.25em; line-height: 1; border-radius: 0.35em;\">\n",
       "    ChatGPT\n",
       "    <span style=\"font-size: 0.8em; font-weight: bold; line-height: 1; border-radius: 0.35em; vertical-align: middle; margin-left: 0.5rem\">PRODUCT</span>\n",
       "</mark>\n",
       ", a form of generative artificial intelligence that it plans to invest \n",
       "<mark class=\"entity\" style=\"background: #e4e7d2; padding: 0.45em 0.6em; margin: 0 0.25em; line-height: 1; border-radius: 0.35em;\">\n",
       "    $10 billion\n",
       "    <span style=\"font-size: 0.8em; font-weight: bold; line-height: 1; border-radius: 0.35em; vertical-align: middle; margin-left: 0.5rem\">MONEY</span>\n",
       "</mark>\n",
       " into, as a household name. And \n",
       "<mark class=\"entity\" style=\"background: #bfe1d9; padding: 0.45em 0.6em; margin: 0 0.25em; line-height: 1; border-radius: 0.35em;\">\n",
       "    last month\n",
       "    <span style=\"font-size: 0.8em; font-weight: bold; line-height: 1; border-radius: 0.35em; vertical-align: middle; margin-left: 0.5rem\">DATE</span>\n",
       "</mark>\n",
       ", \n",
       "<mark class=\"entity\" style=\"background: #aa9cfc; padding: 0.45em 0.6em; margin: 0 0.25em; line-height: 1; border-radius: 0.35em;\">\n",
       "    Sundar Pichai\n",
       "    <span style=\"font-size: 0.8em; font-weight: bold; line-height: 1; border-radius: 0.35em; vertical-align: middle; margin-left: 0.5rem\">PERSON</span>\n",
       "</mark>\n",
       ", C.E.O. of \n",
       "<mark class=\"entity\" style=\"background: #7aecec; padding: 0.45em 0.6em; margin: 0 0.25em; line-height: 1; border-radius: 0.35em;\">\n",
       "    Alphabet/Google\n",
       "    <span style=\"font-size: 0.8em; font-weight: bold; line-height: 1; border-radius: 0.35em; vertical-align: middle; margin-left: 0.5rem\">ORG</span>\n",
       "</mark>\n",
       ", unveiled a suite of A.I. tools — including for email, spreadsheets and drafting all manner of text. While there is some discussion as to whether \n",
       "<mark class=\"entity\" style=\"background: #7aecec; padding: 0.45em 0.6em; margin: 0 0.25em; line-height: 1; border-radius: 0.35em;\">\n",
       "    Meta\n",
       "    <span style=\"font-size: 0.8em; font-weight: bold; line-height: 1; border-radius: 0.35em; vertical-align: middle; margin-left: 0.5rem\">ORG</span>\n",
       "</mark>\n",
       "’s recent decision to give away its A.I. computer code will accelerate its progress, the reality is that all competitors to \n",
       "<mark class=\"entity\" style=\"background: #7aecec; padding: 0.45em 0.6em; margin: 0 0.25em; line-height: 1; border-radius: 0.35em;\">\n",
       "    Alphabet\n",
       "    <span style=\"font-size: 0.8em; font-weight: bold; line-height: 1; border-radius: 0.35em; vertical-align: middle; margin-left: 0.5rem\">ORG</span>\n",
       "</mark>\n",
       " and \n",
       "<mark class=\"entity\" style=\"background: #7aecec; padding: 0.45em 0.6em; margin: 0 0.25em; line-height: 1; border-radius: 0.35em;\">\n",
       "    Microsoft\n",
       "    <span style=\"font-size: 0.8em; font-weight: bold; line-height: 1; border-radius: 0.35em; vertical-align: middle; margin-left: 0.5rem\">ORG</span>\n",
       "</mark>\n",
       " remain far behind.</div></span>"
      ],
      "text/plain": [
       "<IPython.core.display.HTML object>"
      ]
     },
     "metadata": {},
     "output_type": "display_data"
    }
   ],
   "source": [
    "displacy.render(doc, style='ent')"
   ]
  },
  {
   "cell_type": "code",
   "execution_count": 49,
   "id": "fab38f20",
   "metadata": {},
   "outputs": [
    {
     "data": {
      "text/html": [
       "<div>\n",
       "<style scoped>\n",
       "    .dataframe tbody tr th:only-of-type {\n",
       "        vertical-align: middle;\n",
       "    }\n",
       "\n",
       "    .dataframe tbody tr th {\n",
       "        vertical-align: top;\n",
       "    }\n",
       "\n",
       "    .dataframe thead th {\n",
       "        text-align: right;\n",
       "    }\n",
       "</style>\n",
       "<table border=\"1\" class=\"dataframe\">\n",
       "  <thead>\n",
       "    <tr style=\"text-align: right;\">\n",
       "      <th></th>\n",
       "      <th>Word</th>\n",
       "      <th>Start</th>\n",
       "      <th>End</th>\n",
       "      <th>Entity</th>\n",
       "      <th>Description</th>\n",
       "    </tr>\n",
       "  </thead>\n",
       "  <tbody>\n",
       "    <tr>\n",
       "      <th>0</th>\n",
       "      <td>just a few months</td>\n",
       "      <td>3</td>\n",
       "      <td>20</td>\n",
       "      <td>DATE</td>\n",
       "      <td>Absolute or relative dates or periods</td>\n",
       "    </tr>\n",
       "    <tr>\n",
       "      <th>1</th>\n",
       "      <td>Microsoft</td>\n",
       "      <td>22</td>\n",
       "      <td>31</td>\n",
       "      <td>ORG</td>\n",
       "      <td>Companies, agencies, institutions, etc.</td>\n",
       "    </tr>\n",
       "    <tr>\n",
       "      <th>2</th>\n",
       "      <td>ChatGPT</td>\n",
       "      <td>68</td>\n",
       "      <td>75</td>\n",
       "      <td>PRODUCT</td>\n",
       "      <td>Objects, vehicles, foods, etc. (not services)</td>\n",
       "    </tr>\n",
       "    <tr>\n",
       "      <th>3</th>\n",
       "      <td>$10 billion</td>\n",
       "      <td>146</td>\n",
       "      <td>157</td>\n",
       "      <td>MONEY</td>\n",
       "      <td>Monetary values, including unit</td>\n",
       "    </tr>\n",
       "    <tr>\n",
       "      <th>4</th>\n",
       "      <td>last month</td>\n",
       "      <td>189</td>\n",
       "      <td>199</td>\n",
       "      <td>DATE</td>\n",
       "      <td>Absolute or relative dates or periods</td>\n",
       "    </tr>\n",
       "    <tr>\n",
       "      <th>5</th>\n",
       "      <td>Sundar Pichai</td>\n",
       "      <td>201</td>\n",
       "      <td>214</td>\n",
       "      <td>PERSON</td>\n",
       "      <td>People, including fictional</td>\n",
       "    </tr>\n",
       "    <tr>\n",
       "      <th>6</th>\n",
       "      <td>Alphabet/Google</td>\n",
       "      <td>226</td>\n",
       "      <td>241</td>\n",
       "      <td>ORG</td>\n",
       "      <td>Companies, agencies, institutions, etc.</td>\n",
       "    </tr>\n",
       "    <tr>\n",
       "      <th>7</th>\n",
       "      <td>Meta</td>\n",
       "      <td>388</td>\n",
       "      <td>392</td>\n",
       "      <td>ORG</td>\n",
       "      <td>Companies, agencies, institutions, etc.</td>\n",
       "    </tr>\n",
       "    <tr>\n",
       "      <th>8</th>\n",
       "      <td>Alphabet</td>\n",
       "      <td>516</td>\n",
       "      <td>524</td>\n",
       "      <td>ORG</td>\n",
       "      <td>Companies, agencies, institutions, etc.</td>\n",
       "    </tr>\n",
       "    <tr>\n",
       "      <th>9</th>\n",
       "      <td>Microsoft</td>\n",
       "      <td>529</td>\n",
       "      <td>538</td>\n",
       "      <td>ORG</td>\n",
       "      <td>Companies, agencies, institutions, etc.</td>\n",
       "    </tr>\n",
       "  </tbody>\n",
       "</table>\n",
       "</div>"
      ],
      "text/plain": [
       "                 Word  Start    End     Entity  \\\n",
       "0  just a few months      3     20       DATE    \n",
       "1          Microsoft     22     31        ORG    \n",
       "2            ChatGPT     68     75    PRODUCT    \n",
       "3        $10 billion    146    157      MONEY    \n",
       "4         last month    189    199       DATE    \n",
       "5      Sundar Pichai    201    214     PERSON    \n",
       "6    Alphabet/Google    226    241        ORG    \n",
       "7               Meta    388    392        ORG    \n",
       "8           Alphabet    516    524        ORG    \n",
       "9          Microsoft    529    538        ORG    \n",
       "\n",
       "                                      Description  \n",
       "0           Absolute or relative dates or periods  \n",
       "1         Companies, agencies, institutions, etc.  \n",
       "2   Objects, vehicles, foods, etc. (not services)  \n",
       "3                 Monetary values, including unit  \n",
       "4           Absolute or relative dates or periods  \n",
       "5                     People, including fictional  \n",
       "6         Companies, agencies, institutions, etc.  \n",
       "7         Companies, agencies, institutions, etc.  \n",
       "8         Companies, agencies, institutions, etc.  \n",
       "9         Companies, agencies, institutions, etc.  "
      ]
     },
     "execution_count": 49,
     "metadata": {},
     "output_type": "execute_result"
    }
   ],
   "source": [
    "res = show_entities(doc)\n",
    "res"
   ]
  },
  {
   "attachments": {},
   "cell_type": "markdown",
   "id": "3a7962c4",
   "metadata": {},
   "source": [
    "#### Example 2"
   ]
  },
  {
   "cell_type": "code",
   "execution_count": 60,
   "id": "0c24d507",
   "metadata": {},
   "outputs": [
    {
     "data": {
      "text/plain": [
       "Tesla Smoke from wildfires in Canada has drifted down into the U.S. on Wednesday, leading to extremely poor air quality across much of the eastern U.S., with alerts in effect all the way from New England to the Southeast. In all, more than 100 million Americans were affected by air quality alerts, the Environmental Protection Agency said."
      ]
     },
     "execution_count": 60,
     "metadata": {},
     "output_type": "execute_result"
    }
   ],
   "source": [
    "doc2 = transformer(text2)\n",
    "doc2"
   ]
  },
  {
   "cell_type": "code",
   "execution_count": 61,
   "id": "0168cafa",
   "metadata": {},
   "outputs": [
    {
     "data": {
      "text/html": [
       "<span class=\"tex2jax_ignore\"><div class=\"entities\" style=\"line-height: 2.5; direction: ltr\">\n",
       "<mark class=\"entity\" style=\"background: #7aecec; padding: 0.45em 0.6em; margin: 0 0.25em; line-height: 1; border-radius: 0.35em;\">\n",
       "    Tesla\n",
       "    <span style=\"font-size: 0.8em; font-weight: bold; line-height: 1; border-radius: 0.35em; vertical-align: middle; margin-left: 0.5rem\">ORG</span>\n",
       "</mark>\n",
       " Smoke from wildfires in \n",
       "<mark class=\"entity\" style=\"background: #feca74; padding: 0.45em 0.6em; margin: 0 0.25em; line-height: 1; border-radius: 0.35em;\">\n",
       "    Canada\n",
       "    <span style=\"font-size: 0.8em; font-weight: bold; line-height: 1; border-radius: 0.35em; vertical-align: middle; margin-left: 0.5rem\">GPE</span>\n",
       "</mark>\n",
       " has drifted down into the \n",
       "<mark class=\"entity\" style=\"background: #feca74; padding: 0.45em 0.6em; margin: 0 0.25em; line-height: 1; border-radius: 0.35em;\">\n",
       "    U.S.\n",
       "    <span style=\"font-size: 0.8em; font-weight: bold; line-height: 1; border-radius: 0.35em; vertical-align: middle; margin-left: 0.5rem\">GPE</span>\n",
       "</mark>\n",
       " on \n",
       "<mark class=\"entity\" style=\"background: #bfe1d9; padding: 0.45em 0.6em; margin: 0 0.25em; line-height: 1; border-radius: 0.35em;\">\n",
       "    Wednesday\n",
       "    <span style=\"font-size: 0.8em; font-weight: bold; line-height: 1; border-radius: 0.35em; vertical-align: middle; margin-left: 0.5rem\">DATE</span>\n",
       "</mark>\n",
       ", leading to extremely poor air quality across much of the eastern \n",
       "<mark class=\"entity\" style=\"background: #feca74; padding: 0.45em 0.6em; margin: 0 0.25em; line-height: 1; border-radius: 0.35em;\">\n",
       "    U.S.\n",
       "    <span style=\"font-size: 0.8em; font-weight: bold; line-height: 1; border-radius: 0.35em; vertical-align: middle; margin-left: 0.5rem\">GPE</span>\n",
       "</mark>\n",
       ", with alerts in effect all the way from \n",
       "<mark class=\"entity\" style=\"background: #ff9561; padding: 0.45em 0.6em; margin: 0 0.25em; line-height: 1; border-radius: 0.35em;\">\n",
       "    New England\n",
       "    <span style=\"font-size: 0.8em; font-weight: bold; line-height: 1; border-radius: 0.35em; vertical-align: middle; margin-left: 0.5rem\">LOC</span>\n",
       "</mark>\n",
       " to the \n",
       "<mark class=\"entity\" style=\"background: #ff9561; padding: 0.45em 0.6em; margin: 0 0.25em; line-height: 1; border-radius: 0.35em;\">\n",
       "    Southeast\n",
       "    <span style=\"font-size: 0.8em; font-weight: bold; line-height: 1; border-radius: 0.35em; vertical-align: middle; margin-left: 0.5rem\">LOC</span>\n",
       "</mark>\n",
       ". In all, \n",
       "<mark class=\"entity\" style=\"background: #e4e7d2; padding: 0.45em 0.6em; margin: 0 0.25em; line-height: 1; border-radius: 0.35em;\">\n",
       "    more than 100 million\n",
       "    <span style=\"font-size: 0.8em; font-weight: bold; line-height: 1; border-radius: 0.35em; vertical-align: middle; margin-left: 0.5rem\">CARDINAL</span>\n",
       "</mark>\n",
       " \n",
       "<mark class=\"entity\" style=\"background: #c887fb; padding: 0.45em 0.6em; margin: 0 0.25em; line-height: 1; border-radius: 0.35em;\">\n",
       "    Americans\n",
       "    <span style=\"font-size: 0.8em; font-weight: bold; line-height: 1; border-radius: 0.35em; vertical-align: middle; margin-left: 0.5rem\">NORP</span>\n",
       "</mark>\n",
       " were affected by air quality alerts, \n",
       "<mark class=\"entity\" style=\"background: #7aecec; padding: 0.45em 0.6em; margin: 0 0.25em; line-height: 1; border-radius: 0.35em;\">\n",
       "    the Environmental Protection Agency\n",
       "    <span style=\"font-size: 0.8em; font-weight: bold; line-height: 1; border-radius: 0.35em; vertical-align: middle; margin-left: 0.5rem\">ORG</span>\n",
       "</mark>\n",
       " said.</div></span>"
      ],
      "text/plain": [
       "<IPython.core.display.HTML object>"
      ]
     },
     "metadata": {},
     "output_type": "display_data"
    }
   ],
   "source": [
    "doc2 = transformer(text2)\n",
    "displacy.render(doc2, style='ent')"
   ]
  },
  {
   "cell_type": "code",
   "execution_count": 54,
   "id": "f7f3f3b7",
   "metadata": {},
   "outputs": [
    {
     "data": {
      "text/html": [
       "<div>\n",
       "<style scoped>\n",
       "    .dataframe tbody tr th:only-of-type {\n",
       "        vertical-align: middle;\n",
       "    }\n",
       "\n",
       "    .dataframe tbody tr th {\n",
       "        vertical-align: top;\n",
       "    }\n",
       "\n",
       "    .dataframe thead th {\n",
       "        text-align: right;\n",
       "    }\n",
       "</style>\n",
       "<table border=\"1\" class=\"dataframe\">\n",
       "  <thead>\n",
       "    <tr style=\"text-align: right;\">\n",
       "      <th></th>\n",
       "      <th>Word</th>\n",
       "      <th>Start</th>\n",
       "      <th>End</th>\n",
       "      <th>Entity</th>\n",
       "      <th>Description</th>\n",
       "    </tr>\n",
       "  </thead>\n",
       "  <tbody>\n",
       "    <tr>\n",
       "      <th>0</th>\n",
       "      <td>Canada</td>\n",
       "      <td>24</td>\n",
       "      <td>30</td>\n",
       "      <td>GPE</td>\n",
       "      <td>Countries, cities, states</td>\n",
       "    </tr>\n",
       "    <tr>\n",
       "      <th>1</th>\n",
       "      <td>U.S.</td>\n",
       "      <td>57</td>\n",
       "      <td>61</td>\n",
       "      <td>GPE</td>\n",
       "      <td>Countries, cities, states</td>\n",
       "    </tr>\n",
       "    <tr>\n",
       "      <th>2</th>\n",
       "      <td>Wednesday</td>\n",
       "      <td>65</td>\n",
       "      <td>74</td>\n",
       "      <td>DATE</td>\n",
       "      <td>Absolute or relative dates or periods</td>\n",
       "    </tr>\n",
       "    <tr>\n",
       "      <th>3</th>\n",
       "      <td>U.S.</td>\n",
       "      <td>141</td>\n",
       "      <td>145</td>\n",
       "      <td>GPE</td>\n",
       "      <td>Countries, cities, states</td>\n",
       "    </tr>\n",
       "    <tr>\n",
       "      <th>4</th>\n",
       "      <td>New England</td>\n",
       "      <td>186</td>\n",
       "      <td>197</td>\n",
       "      <td>LOC</td>\n",
       "      <td>Non-GPE locations, mountain ranges, bodies of...</td>\n",
       "    </tr>\n",
       "    <tr>\n",
       "      <th>5</th>\n",
       "      <td>Southeast</td>\n",
       "      <td>205</td>\n",
       "      <td>214</td>\n",
       "      <td>LOC</td>\n",
       "      <td>Non-GPE locations, mountain ranges, bodies of...</td>\n",
       "    </tr>\n",
       "    <tr>\n",
       "      <th>6</th>\n",
       "      <td>more than 100 million</td>\n",
       "      <td>224</td>\n",
       "      <td>245</td>\n",
       "      <td>CARDINAL</td>\n",
       "      <td>Numerals that do not fall under another type</td>\n",
       "    </tr>\n",
       "    <tr>\n",
       "      <th>7</th>\n",
       "      <td>Americans</td>\n",
       "      <td>246</td>\n",
       "      <td>255</td>\n",
       "      <td>NORP</td>\n",
       "      <td>Nationalities or religious or political groups</td>\n",
       "    </tr>\n",
       "    <tr>\n",
       "      <th>8</th>\n",
       "      <td>the Environmental Protection Agency</td>\n",
       "      <td>293</td>\n",
       "      <td>328</td>\n",
       "      <td>ORG</td>\n",
       "      <td>Companies, agencies, institutions, etc.</td>\n",
       "    </tr>\n",
       "  </tbody>\n",
       "</table>\n",
       "</div>"
      ],
      "text/plain": [
       "                                   Word  Start    End      Entity  \\\n",
       "0                               Canada     24     30         GPE    \n",
       "1                                 U.S.     57     61         GPE    \n",
       "2                            Wednesday     65     74        DATE    \n",
       "3                                 U.S.    141    145         GPE    \n",
       "4                          New England    186    197         LOC    \n",
       "5                            Southeast    205    214         LOC    \n",
       "6                more than 100 million    224    245    CARDINAL    \n",
       "7                            Americans    246    255        NORP    \n",
       "8  the Environmental Protection Agency    293    328         ORG    \n",
       "\n",
       "                                         Description  \n",
       "0                          Countries, cities, states  \n",
       "1                          Countries, cities, states  \n",
       "2              Absolute or relative dates or periods  \n",
       "3                          Countries, cities, states  \n",
       "4   Non-GPE locations, mountain ranges, bodies of...  \n",
       "5   Non-GPE locations, mountain ranges, bodies of...  \n",
       "6       Numerals that do not fall under another type  \n",
       "7     Nationalities or religious or political groups  \n",
       "8            Companies, agencies, institutions, etc.  "
      ]
     },
     "execution_count": 54,
     "metadata": {},
     "output_type": "execute_result"
    }
   ],
   "source": [
    "res2 = show_entities(doc2)\n",
    "res2"
   ]
  },
  {
   "attachments": {},
   "cell_type": "markdown",
   "id": "bea73d79",
   "metadata": {},
   "source": [
    "### Add custom entity tag"
   ]
  },
  {
   "cell_type": "code",
   "execution_count": 94,
   "id": "5443f341",
   "metadata": {},
   "outputs": [
    {
     "data": {
      "text/html": [
       "<span class=\"tex2jax_ignore\"><div class=\"entities\" style=\"line-height: 2.5; direction: ltr\">Global esports qualfied.</div></span>"
      ],
      "text/plain": [
       "<IPython.core.display.HTML object>"
      ]
     },
     "metadata": {},
     "output_type": "display_data"
    }
   ],
   "source": [
    "doc3 = transformer(text3)\n",
    "displacy.render(doc3, style='ent')"
   ]
  },
  {
   "attachments": {},
   "cell_type": "markdown",
   "id": "8a0bb732",
   "metadata": {},
   "source": [
    "Here \"Global Esports\" is an organization which is not identified by the model. \n",
    "We can add tags by ourselves using Span module."
   ]
  },
  {
   "cell_type": "code",
   "execution_count": 95,
   "id": "d2fde8fb",
   "metadata": {},
   "outputs": [
    {
     "data": {
      "text/html": [
       "<span class=\"tex2jax_ignore\"><div class=\"entities\" style=\"line-height: 2.5; direction: ltr\">\n",
       "<mark class=\"entity\" style=\"background: #7aecec; padding: 0.45em 0.6em; margin: 0 0.25em; line-height: 1; border-radius: 0.35em;\">\n",
       "    Global esports\n",
       "    <span style=\"font-size: 0.8em; font-weight: bold; line-height: 1; border-radius: 0.35em; vertical-align: middle; margin-left: 0.5rem\">ORG</span>\n",
       "</mark>\n",
       " qualfied.</div></span>"
      ],
      "text/plain": [
       "<IPython.core.display.HTML object>"
      ]
     },
     "metadata": {},
     "output_type": "display_data"
    }
   ],
   "source": [
    "ORG = doc3.vocab.strings [u'ORG']\n",
    "new_ent = Span(doc3, 0, 2, label=ORG)\n",
    "doc3.ents = list (doc3.ents) + [new_ent]\n",
    "displacy.render(doc3, style='ent')"
   ]
  }
 ],
 "metadata": {
  "kernelspec": {
   "display_name": "Python 3 (ipykernel)",
   "language": "python",
   "name": "python3"
  },
  "language_info": {
   "codemirror_mode": {
    "name": "ipython",
    "version": 3
   },
   "file_extension": ".py",
   "mimetype": "text/x-python",
   "name": "python",
   "nbconvert_exporter": "python",
   "pygments_lexer": "ipython3",
   "version": "3.9.16"
  }
 },
 "nbformat": 4,
 "nbformat_minor": 5
}
